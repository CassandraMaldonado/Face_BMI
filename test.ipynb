{
 "cells": [
  {
   "cell_type": "code",
   "execution_count": 1,
   "metadata": {},
   "outputs": [
    {
     "name": "stdout",
     "output_type": "stream",
     "text": [
      "Requirement already satisfied: numpy in /opt/anaconda3/lib/python3.12/site-packages (1.26.4)\n",
      "Note: you may need to restart the kernel to use updated packages.\n"
     ]
    }
   ],
   "source": [
    "%pip install numpy"
   ]
  },
  {
   "cell_type": "code",
   "execution_count": 2,
   "metadata": {},
   "outputs": [
    {
     "name": "stdout",
     "output_type": "stream",
     "text": [
      "\u001b[31mERROR: Could not find a version that satisfies the requirement tensorflow==2.9.0 (from versions: 2.16.0rc0, 2.16.1, 2.16.2, 2.17.0rc0, 2.17.0rc1, 2.17.0, 2.17.1, 2.18.0rc0, 2.18.0rc1, 2.18.0rc2, 2.18.0, 2.18.1, 2.19.0rc0, 2.19.0)\u001b[0m\u001b[31m\n",
      "\u001b[0m\u001b[31mERROR: No matching distribution found for tensorflow==2.9.0\u001b[0m\u001b[31m\n",
      "\u001b[0mNote: you may need to restart the kernel to use updated packages.\n",
      "Requirement already satisfied: matplotlib in /opt/anaconda3/lib/python3.12/site-packages (3.9.2)\n",
      "Requirement already satisfied: mtcnn in /opt/anaconda3/lib/python3.12/site-packages (1.0.0)\n",
      "Requirement already satisfied: opencv-python in /opt/anaconda3/lib/python3.12/site-packages (4.11.0.86)\n",
      "Requirement already satisfied: pillow in /opt/anaconda3/lib/python3.12/site-packages (11.1.0)\n",
      "Requirement already satisfied: contourpy>=1.0.1 in /opt/anaconda3/lib/python3.12/site-packages (from matplotlib) (1.2.0)\n",
      "Requirement already satisfied: cycler>=0.10 in /opt/anaconda3/lib/python3.12/site-packages (from matplotlib) (0.11.0)\n",
      "Requirement already satisfied: fonttools>=4.22.0 in /opt/anaconda3/lib/python3.12/site-packages (from matplotlib) (4.51.0)\n",
      "Requirement already satisfied: kiwisolver>=1.3.1 in /opt/anaconda3/lib/python3.12/site-packages (from matplotlib) (1.4.4)\n",
      "Requirement already satisfied: numpy>=1.23 in /opt/anaconda3/lib/python3.12/site-packages (from matplotlib) (1.26.4)\n",
      "Requirement already satisfied: packaging>=20.0 in /opt/anaconda3/lib/python3.12/site-packages (from matplotlib) (24.1)\n",
      "Requirement already satisfied: pyparsing>=2.3.1 in /opt/anaconda3/lib/python3.12/site-packages (from matplotlib) (3.1.2)\n",
      "Requirement already satisfied: python-dateutil>=2.7 in /opt/anaconda3/lib/python3.12/site-packages (from matplotlib) (2.9.0.post0)\n",
      "Requirement already satisfied: joblib>=1.4.2 in /opt/anaconda3/lib/python3.12/site-packages (from mtcnn) (1.4.2)\n",
      "Requirement already satisfied: lz4>=4.3.3 in /opt/anaconda3/lib/python3.12/site-packages (from mtcnn) (4.4.4)\n",
      "Requirement already satisfied: six>=1.5 in /opt/anaconda3/lib/python3.12/site-packages (from python-dateutil>=2.7->matplotlib) (1.16.0)\n",
      "Note: you may need to restart the kernel to use updated packages.\n"
     ]
    }
   ],
   "source": [
    "# Install required packages\n",
    "%pip install tensorflow==2.9.0\n",
    "%pip install matplotlib mtcnn opencv-python pillow"
   ]
  },
  {
   "cell_type": "code",
   "execution_count": 15,
   "metadata": {},
   "outputs": [
    {
     "name": "stdout",
     "output_type": "stream",
     "text": [
      "Error: Model not found at /Users/casey/Documents/GitHub/Face_to_BMI/saved_model.h5. Train the model first.\n"
     ]
    }
   ],
   "source": [
    "# Step 1: Import all necessary libraries\n",
    "import os\n",
    "import pandas as pd\n",
    "import numpy as np\n",
    "import matplotlib.pyplot as plt\n",
    "from tensorflow.keras.models import load_model\n",
    "\n",
    "# Step 2: Import your BMI predictor\n",
    "from bmi_prediction import BMIPredictor\n",
    "\n",
    "# Step 3: Define your paths (same as in your main.py)\n",
    "DATA_PATH = \"/Users/casey/Documents/GitHub/Face_to_BMI/data.csv\"\n",
    "IMAGE_PATH = \"/Users/casey/Documents/GitHub/Face_to_BMI/Images\"\n",
    "MODEL_PATH = \"/Users/casey/Documents/GitHub/Face_to_BMI/saved_model.h5\"  # This is the saved model file\n",
    "\n",
    "# Step 4: Check if model exists\n",
    "if not os.path.exists(MODEL_PATH):\n",
    "    print(f\"Error: Model not found at {MODEL_PATH}. Train the model first.\")\n",
    "else:\n",
    "    print(f\"Model found at {MODEL_PATH}\")"
   ]
  },
  {
   "cell_type": "code",
   "execution_count": 14,
   "metadata": {},
   "outputs": [
    {
     "name": "stdout",
     "output_type": "stream",
     "text": [
      "Loading model from /Users/casey/Documents/GitHub/Face_to_BMI/\n"
     ]
    },
    {
     "ename": "ValueError",
     "evalue": "File format not supported: filepath=/Users/casey/Documents/GitHub/Face_to_BMI/. Keras 3 only supports V3 `.keras` files and legacy H5 format files (`.h5` extension). Note that the legacy SavedModel format is not supported by `load_model()` in Keras 3. In order to reload a TensorFlow SavedModel as an inference-only layer in Keras 3, use `keras.layers.TFSMLayer(/Users/casey/Documents/GitHub/Face_to_BMI/, call_endpoint='serving_default')` (note that your `call_endpoint` might have a different name).",
     "output_type": "error",
     "traceback": [
      "\u001b[0;31m---------------------------------------------------------------------------\u001b[0m",
      "\u001b[0;31mValueError\u001b[0m                                Traceback (most recent call last)",
      "Cell \u001b[0;32mIn[14], line 2\u001b[0m\n\u001b[1;32m      1\u001b[0m \u001b[38;5;66;03m# Step 5: Initialize the predictor\u001b[39;00m\n\u001b[0;32m----> 2\u001b[0m predictor \u001b[38;5;241m=\u001b[39m BMIPredictor(MODEL_PATH)\n\u001b[1;32m      4\u001b[0m \u001b[38;5;66;03m# Step 6: Load the dataset\u001b[39;00m\n\u001b[1;32m      5\u001b[0m df \u001b[38;5;241m=\u001b[39m pd\u001b[38;5;241m.\u001b[39mread_csv(DATA_PATH)\n",
      "File \u001b[0;32m~/Documents/GitHub/Face_BMI/bmi_prediction.py:31\u001b[0m, in \u001b[0;36mBMIPredictor.__init__\u001b[0;34m(self, model_path)\u001b[0m\n\u001b[1;32m     29\u001b[0m \u001b[38;5;28;01mif\u001b[39;00m model_path \u001b[38;5;129;01mand\u001b[39;00m os\u001b[38;5;241m.\u001b[39mpath\u001b[38;5;241m.\u001b[39mexists(model_path):\n\u001b[1;32m     30\u001b[0m     \u001b[38;5;28mprint\u001b[39m(\u001b[38;5;124mf\u001b[39m\u001b[38;5;124m\"\u001b[39m\u001b[38;5;124mLoading model from \u001b[39m\u001b[38;5;132;01m{\u001b[39;00mmodel_path\u001b[38;5;132;01m}\u001b[39;00m\u001b[38;5;124m\"\u001b[39m)\n\u001b[0;32m---> 31\u001b[0m     \u001b[38;5;28mself\u001b[39m\u001b[38;5;241m.\u001b[39mmodel \u001b[38;5;241m=\u001b[39m load_model(model_path)\n",
      "File \u001b[0;32m/opt/anaconda3/lib/python3.12/site-packages/keras/src/saving/saving_api.py:206\u001b[0m, in \u001b[0;36mload_model\u001b[0;34m(filepath, custom_objects, compile, safe_mode)\u001b[0m\n\u001b[1;32m    200\u001b[0m     \u001b[38;5;28;01mraise\u001b[39;00m \u001b[38;5;167;01mValueError\u001b[39;00m(\n\u001b[1;32m    201\u001b[0m         \u001b[38;5;124mf\u001b[39m\u001b[38;5;124m\"\u001b[39m\u001b[38;5;124mFile not found: filepath=\u001b[39m\u001b[38;5;132;01m{\u001b[39;00mfilepath\u001b[38;5;132;01m}\u001b[39;00m\u001b[38;5;124m. \u001b[39m\u001b[38;5;124m\"\u001b[39m\n\u001b[1;32m    202\u001b[0m         \u001b[38;5;124m\"\u001b[39m\u001b[38;5;124mPlease ensure the file is an accessible `.keras` \u001b[39m\u001b[38;5;124m\"\u001b[39m\n\u001b[1;32m    203\u001b[0m         \u001b[38;5;124m\"\u001b[39m\u001b[38;5;124mzip file.\u001b[39m\u001b[38;5;124m\"\u001b[39m\n\u001b[1;32m    204\u001b[0m     )\n\u001b[1;32m    205\u001b[0m \u001b[38;5;28;01melse\u001b[39;00m:\n\u001b[0;32m--> 206\u001b[0m     \u001b[38;5;28;01mraise\u001b[39;00m \u001b[38;5;167;01mValueError\u001b[39;00m(\n\u001b[1;32m    207\u001b[0m         \u001b[38;5;124mf\u001b[39m\u001b[38;5;124m\"\u001b[39m\u001b[38;5;124mFile format not supported: filepath=\u001b[39m\u001b[38;5;132;01m{\u001b[39;00mfilepath\u001b[38;5;132;01m}\u001b[39;00m\u001b[38;5;124m. \u001b[39m\u001b[38;5;124m\"\u001b[39m\n\u001b[1;32m    208\u001b[0m         \u001b[38;5;124m\"\u001b[39m\u001b[38;5;124mKeras 3 only supports V3 `.keras` files and \u001b[39m\u001b[38;5;124m\"\u001b[39m\n\u001b[1;32m    209\u001b[0m         \u001b[38;5;124m\"\u001b[39m\u001b[38;5;124mlegacy H5 format files (`.h5` extension). \u001b[39m\u001b[38;5;124m\"\u001b[39m\n\u001b[1;32m    210\u001b[0m         \u001b[38;5;124m\"\u001b[39m\u001b[38;5;124mNote that the legacy SavedModel format is not \u001b[39m\u001b[38;5;124m\"\u001b[39m\n\u001b[1;32m    211\u001b[0m         \u001b[38;5;124m\"\u001b[39m\u001b[38;5;124msupported by `load_model()` in Keras 3. In \u001b[39m\u001b[38;5;124m\"\u001b[39m\n\u001b[1;32m    212\u001b[0m         \u001b[38;5;124m\"\u001b[39m\u001b[38;5;124morder to reload a TensorFlow SavedModel as an \u001b[39m\u001b[38;5;124m\"\u001b[39m\n\u001b[1;32m    213\u001b[0m         \u001b[38;5;124m\"\u001b[39m\u001b[38;5;124minference-only layer in Keras 3, use \u001b[39m\u001b[38;5;124m\"\u001b[39m\n\u001b[1;32m    214\u001b[0m         \u001b[38;5;124m\"\u001b[39m\u001b[38;5;124m`keras.layers.TFSMLayer(\u001b[39m\u001b[38;5;124m\"\u001b[39m\n\u001b[1;32m    215\u001b[0m         \u001b[38;5;124mf\u001b[39m\u001b[38;5;124m\"\u001b[39m\u001b[38;5;132;01m{\u001b[39;00mfilepath\u001b[38;5;132;01m}\u001b[39;00m\u001b[38;5;124m, call_endpoint=\u001b[39m\u001b[38;5;124m'\u001b[39m\u001b[38;5;124mserving_default\u001b[39m\u001b[38;5;124m'\u001b[39m\u001b[38;5;124m)` \u001b[39m\u001b[38;5;124m\"\u001b[39m\n\u001b[1;32m    216\u001b[0m         \u001b[38;5;124m\"\u001b[39m\u001b[38;5;124m(note that your `call_endpoint` \u001b[39m\u001b[38;5;124m\"\u001b[39m\n\u001b[1;32m    217\u001b[0m         \u001b[38;5;124m\"\u001b[39m\u001b[38;5;124mmight have a different name).\u001b[39m\u001b[38;5;124m\"\u001b[39m\n\u001b[1;32m    218\u001b[0m     )\n",
      "\u001b[0;31mValueError\u001b[0m: File format not supported: filepath=/Users/casey/Documents/GitHub/Face_to_BMI/. Keras 3 only supports V3 `.keras` files and legacy H5 format files (`.h5` extension). Note that the legacy SavedModel format is not supported by `load_model()` in Keras 3. In order to reload a TensorFlow SavedModel as an inference-only layer in Keras 3, use `keras.layers.TFSMLayer(/Users/casey/Documents/GitHub/Face_to_BMI/, call_endpoint='serving_default')` (note that your `call_endpoint` might have a different name)."
     ]
    }
   ],
   "source": [
    "# Step 5: Initialize the predictor\n",
    "predictor = BMIPredictor(MODEL_PATH)\n",
    "\n",
    "# Step 6: Load the dataset\n",
    "df = pd.read_csv(DATA_PATH)\n",
    "print(f\"Dataset loaded with {len(df)} entries\")\n",
    "\n",
    "# Step 7: Create a test subset (20% of the data)\n",
    "test_df = df.sample(frac=0.2, random_state=42)\n",
    "print(f\"Selected {len(test_df)} images for testing\")\n",
    "\n",
    "# Step 8: Create a dictionary to store results\n",
    "results = []"
   ]
  },
  {
   "cell_type": "code",
   "execution_count": 4,
   "metadata": {},
   "outputs": [
    {
     "ename": "NameError",
     "evalue": "name 'test_df' is not defined",
     "output_type": "error",
     "traceback": [
      "\u001b[0;31m---------------------------------------------------------------------------\u001b[0m",
      "\u001b[0;31mNameError\u001b[0m                                 Traceback (most recent call last)",
      "Cell \u001b[0;32mIn[4], line 2\u001b[0m\n\u001b[1;32m      1\u001b[0m \u001b[38;5;66;03m# Step 9: Loop through test images and predict BMI\u001b[39;00m\n\u001b[0;32m----> 2\u001b[0m \u001b[38;5;28;01mfor\u001b[39;00m idx, row \u001b[38;5;129;01min\u001b[39;00m test_df\u001b[38;5;241m.\u001b[39miterrows():\n\u001b[1;32m      3\u001b[0m     image_path \u001b[38;5;241m=\u001b[39m os\u001b[38;5;241m.\u001b[39mpath\u001b[38;5;241m.\u001b[39mjoin(IMAGE_PATH, row[\u001b[38;5;124m'\u001b[39m\u001b[38;5;124mname\u001b[39m\u001b[38;5;124m'\u001b[39m])\n\u001b[1;32m      5\u001b[0m     \u001b[38;5;28;01mif\u001b[39;00m \u001b[38;5;129;01mnot\u001b[39;00m os\u001b[38;5;241m.\u001b[39mpath\u001b[38;5;241m.\u001b[39mexists(image_path):\n",
      "\u001b[0;31mNameError\u001b[0m: name 'test_df' is not defined"
     ]
    }
   ],
   "source": [
    "# Step 9: Loop through test images and predict BMI\n",
    "for idx, row in test_df.iterrows():\n",
    "    image_path = os.path.join(IMAGE_PATH, row['name'])\n",
    "    \n",
    "    if not os.path.exists(image_path):\n",
    "        print(f\"Warning: Image {image_path} not found\")\n",
    "        continue\n",
    "    \n",
    "    # Get actual BMI\n",
    "    actual_bmi = row['bmi']\n",
    "    \n",
    "    # Predict BMI\n",
    "    predicted_bmi, category = predictor.predict_bmi(image_path=image_path)\n",
    "    \n",
    "    if predicted_bmi is not None:\n",
    "        # Calculate error\n",
    "        error = abs(predicted_bmi - actual_bmi)\n",
    "        \n",
    "        results.append({\n",
    "            'image': row['name'],\n",
    "            'actual_bmi': actual_bmi,\n",
    "            'predicted_bmi': predicted_bmi,\n",
    "            'category': category,\n",
    "            'error': error\n",
    "        })\n",
    "        \n",
    "        print(f\"Image: {row['name']}\")\n",
    "        print(f\"  Actual BMI: {actual_bmi:.2f}\")\n",
    "        print(f\"  Predicted BMI: {predicted_bmi:.2f}\")\n",
    "        print(f\"  Error: {error:.2f}\")\n",
    "        print(f\"  Category: {category}\")\n",
    "        print(\"---\")\n",
    "\n",
    "# Step 10: Calculate overall metrics\n",
    "if results:\n",
    "    errors = [r['error'] for r in results]\n",
    "    mean_error = sum(errors) / len(errors)\n",
    "    max_error = max(errors)\n",
    "    min_error = min(errors)\n",
    "    \n",
    "    print(\"\\nTest Results Summary:\")\n",
    "    print(f\"Number of test images: {len(results)}\")\n",
    "    print(f\"Mean Absolute Error: {mean_error:.2f}\")\n",
    "    print(f\"Max Error: {max_error:.2f}\")\n",
    "    print(f\"Min Error: {min_error:.2f}\")\n",
    "    \n",
    "    # Create a DataFrame with results\n",
    "    results_df = pd.DataFrame(results)\n",
    "    \n",
    "    # Save results to CSV\n",
    "    results_df.to_csv(\"test_results.csv\", index=False)\n",
    "    print(\"Detailed results saved to test_results.csv\")\n",
    "\n",
    "# Step 11: Visualize the results\n",
    "if results:\n",
    "    plt.figure(figsize=(15, 10))\n",
    "    \n",
    "    # 1. Plot predicted vs actual BMI\n",
    "    plt.subplot(2, 2, 1)\n",
    "    plt.scatter([r['actual_bmi'] for r in results], [r['predicted_bmi'] for r in results])\n",
    "    plt.plot([min([r['actual_bmi'] for r in results]), max([r['actual_bmi'] for r in results])], \n",
    "             [min([r['actual_bmi'] for r in results]), max([r['actual_bmi'] for r in results])], 'r--')\n",
    "    plt.xlabel('Actual BMI')\n",
    "    plt.ylabel('Predicted BMI')\n",
    "    plt.title('Predicted vs Actual BMI')\n",
    "    \n",
    "    # 2. Plot error distribution\n",
    "    plt.subplot(2, 2, 2)\n",
    "    plt.hist(errors, bins=10)\n",
    "    plt.xlabel('Absolute Error')\n",
    "    plt.ylabel('Count')\n",
    "    plt.title('Error Distribution')\n",
    "    \n",
    "    # 3. Plot error vs actual BMI\n",
    "    plt.subplot(2, 2, 3)\n",
    "    plt.scatter([r['actual_bmi'] for r in results], [r['error'] for r in results])\n",
    "    plt.xlabel('Actual BMI')\n",
    "    plt.ylabel('Absolute Error')\n",
    "    plt.title('Error vs Actual BMI')\n",
    "    \n",
    "    # 4. Show some sample image predictions\n",
    "    if len(results) > 0:\n",
    "        # Get images with lowest and highest errors\n",
    "        sorted_results = sorted(results, key=lambda x: x['error'])\n",
    "        best_prediction = sorted_results[0]\n",
    "        worst_prediction = sorted_results[-1]\n",
    "        \n",
    "        plt.subplot(2, 2, 4)\n",
    "        plt.axis('off')\n",
    "        plt.title('Sample Results')\n",
    "        info_text = f\"Best prediction:\\n\"\n",
    "        info_text += f\"Image: {best_prediction['image']}\\n\"\n",
    "        info_text += f\"Actual: {best_prediction['actual_bmi']:.2f}, Predicted: {best_prediction['predicted_bmi']:.2f}\\n\"\n",
    "        info_text += f\"Error: {best_prediction['error']:.2f}\\n\\n\"\n",
    "        \n",
    "        info_text += f\"Worst prediction:\\n\"\n",
    "        info_text += f\"Image: {worst_prediction['image']}\\n\"\n",
    "        info_text += f\"Actual: {worst_prediction['actual_bmi']:.2f}, Predicted: {worst_prediction['predicted_bmi']:.2f}\\n\"\n",
    "        info_text += f\"Error: {worst_prediction['error']:.2f}\"\n",
    "        \n",
    "        plt.text(0.1, 0.5, info_text, fontsize=10)\n",
    "    \n",
    "    plt.tight_layout()\n",
    "    plt.savefig(\"test_results_visualization.png\")\n",
    "    plt.show()"
   ]
  }
 ],
 "metadata": {
  "kernelspec": {
   "display_name": "base",
   "language": "python",
   "name": "python3"
  },
  "language_info": {
   "codemirror_mode": {
    "name": "ipython",
    "version": 3
   },
   "file_extension": ".py",
   "mimetype": "text/x-python",
   "name": "python",
   "nbconvert_exporter": "python",
   "pygments_lexer": "ipython3",
   "version": "3.12.2"
  }
 },
 "nbformat": 4,
 "nbformat_minor": 2
}
